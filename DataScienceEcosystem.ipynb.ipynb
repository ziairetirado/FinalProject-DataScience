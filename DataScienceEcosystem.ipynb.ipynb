{
  "metadata": {
    "kernelspec": {
      "name": "python",
      "display_name": "Python (Pyodide)",
      "language": "python"
    },
    "language_info": {
      "codemirror_mode": {
        "name": "python",
        "version": 3
      },
      "file_extension": ".py",
      "mimetype": "text/x-python",
      "name": "python",
      "nbconvert_exporter": "python",
      "pygments_lexer": "ipython3",
      "version": "3.8"
    }
  },
  "nbformat_minor": 5,
  "nbformat": 4,
  "cells": [
    {
      "id": "ceb015d2-481e-4e66-a840-9452d3d0e765",
      "cell_type": "code",
      "source": "# Final Project - Data Science Tools and Ecosystem",
      "metadata": {
        "trusted": true
      },
      "outputs": [],
      "execution_count": 1
    },
    {
      "id": "c97626e8-4a2c-4e1a-8d0a-bad3b0fada6e",
      "cell_type": "markdown",
      "source": "In this notebook, we will explore some of the most common languages, libraries, and tools used in the field of Data Science. Additionally, we will demonstrate basic arithmetic operations using Python code cells.\n",
      "metadata": {}
    },
    {
      "id": "fa6e2961-c5b9-410a-87a0-da988ad1ddee",
      "cell_type": "markdown",
      "source": "## Languages used in Data Science:\n- Python\n- R\n- SQL\n- Java\n- Julia\n",
      "metadata": {}
    },
    {
      "id": "d3067710-3f9b-4dcf-bdcf-bc15384d7285",
      "cell_type": "markdown",
      "source": "## Popular Data Science Libraries:\n- Pandas\n- NumPy\n- Matplotlib\n- Scikit-learn\n- TensorFlow\n",
      "metadata": {}
    },
    {
      "id": "34136f7b-ef0b-4c89-867a-9b767b5ec2cc",
      "cell_type": "markdown",
      "source": "## Data Science Tools\n\n| Tool Name     | Description                    |\n|---------------|--------------------------------|\n| Jupyter       | Interactive notebooks          |\n| RStudio       | IDE for R                      |\n| VS Code       | Lightweight code editor        |\n| Apache Spark  | Big data processing framework  |\n| Tableau       | Data visualization tool        |\n",
      "metadata": {}
    },
    {
      "id": "594a335c-b116-4b18-bcea-222c504bdca2",
      "cell_type": "markdown",
      "source": "### Examples of arithmetic expressions:\n- Addition: 4 + 6\n- Subtraction: 10 - 3\n- Multiplication: 7 * 5\n- Division: 20 / 4\n",
      "metadata": {}
    },
    {
      "id": "b179a05f-6935-4295-952b-d6fee9fe587a",
      "cell_type": "code",
      "source": "# This expression multiplies 3 by 4 and then adds 5\n(3 * 4) + 5\n",
      "metadata": {
        "trusted": true
      },
      "outputs": [
        {
          "execution_count": 4,
          "output_type": "execute_result",
          "data": {
            "text/plain": "17"
          },
          "metadata": {}
        }
      ],
      "execution_count": 4
    },
    {
      "id": "999f80f8-66cc-4982-9c37-42dcd76d43b9",
      "cell_type": "code",
      "source": "# Convert 200 minutes into hours\nminutes = 200\nhours = minutes / 60\nhours\n",
      "metadata": {
        "trusted": true
      },
      "outputs": [
        {
          "execution_count": 5,
          "output_type": "execute_result",
          "data": {
            "text/plain": "3.3333333333333335"
          },
          "metadata": {}
        }
      ],
      "execution_count": 5
    },
    {
      "id": "a9823ceb-941e-4568-b809-756667d23ce2",
      "cell_type": "code",
      "source": "# Objectives of this notebook\nobjectives = [\n    \"List commonly used languages in Data Science\",\n    \"Identify popular Data Science libraries and tools\",\n    \"Demonstrate basic arithmetic operations in code\"\n]\nfor obj in objectives:\n    print(\"-\", obj)\n",
      "metadata": {
        "trusted": true
      },
      "outputs": [
        {
          "name": "stdout",
          "output_type": "stream",
          "text": "- List commonly used languages in Data Science\n- Identify popular Data Science libraries and tools\n- Demonstrate basic arithmetic operations in code\n"
        }
      ],
      "execution_count": 6
    },
    {
      "id": "9da4dfeb-bd3a-4f9e-b8c4-652c97a18ac6",
      "cell_type": "markdown",
      "source": "Author: Nicolás Inostroza Cáceres\n",
      "metadata": {}
    },
    {
      "id": "4da00222-3781-4343-b58b-fd75643c359b",
      "cell_type": "code",
      "source": "",
      "metadata": {
        "trusted": true
      },
      "outputs": [],
      "execution_count": null
    }
  ]
}
